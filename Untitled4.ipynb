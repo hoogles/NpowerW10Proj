{
 "cells": [
  {
   "cell_type": "code",
   "execution_count": 48,
   "id": "d0b0ac37",
   "metadata": {},
   "outputs": [],
   "source": [
    "import pandas as pd\n",
    "import numpy as np\n"
   ]
  },
  {
   "cell_type": "code",
   "execution_count": 49,
   "id": "0bf4765a",
   "metadata": {},
   "outputs": [],
   "source": [
    "df = pd.read_csv(\"08-19-2021.csv\")\n"
   ]
  },
  {
   "cell_type": "code",
   "execution_count": 50,
   "id": "e26102da",
   "metadata": {},
   "outputs": [
    {
     "data": {
      "text/html": [
       "<div>\n",
       "<style scoped>\n",
       "    .dataframe tbody tr th:only-of-type {\n",
       "        vertical-align: middle;\n",
       "    }\n",
       "\n",
       "    .dataframe tbody tr th {\n",
       "        vertical-align: top;\n",
       "    }\n",
       "\n",
       "    .dataframe thead th {\n",
       "        text-align: right;\n",
       "    }\n",
       "</style>\n",
       "<table border=\"1\" class=\"dataframe\">\n",
       "  <thead>\n",
       "    <tr style=\"text-align: right;\">\n",
       "      <th></th>\n",
       "      <th>FIPS</th>\n",
       "      <th>Admin2</th>\n",
       "      <th>Province_State</th>\n",
       "      <th>Country_Region</th>\n",
       "      <th>Last_Update</th>\n",
       "      <th>Lat</th>\n",
       "      <th>Long_</th>\n",
       "      <th>Confirmed</th>\n",
       "      <th>Deaths</th>\n",
       "      <th>Recovered</th>\n",
       "      <th>Active</th>\n",
       "      <th>Combined_Key</th>\n",
       "      <th>Incident_Rate</th>\n",
       "      <th>Case_Fatality_Ratio</th>\n",
       "    </tr>\n",
       "  </thead>\n",
       "  <tbody>\n",
       "    <tr>\n",
       "      <th>0</th>\n",
       "      <td>NaN</td>\n",
       "      <td>NaN</td>\n",
       "      <td>NaN</td>\n",
       "      <td>Afghanistan</td>\n",
       "      <td>2021-08-20 04:21:33</td>\n",
       "      <td>33.93911</td>\n",
       "      <td>67.709953</td>\n",
       "      <td>152411</td>\n",
       "      <td>7047</td>\n",
       "      <td>NaN</td>\n",
       "      <td>NaN</td>\n",
       "      <td>Afghanistan</td>\n",
       "      <td>391.516813</td>\n",
       "      <td>4.623682</td>\n",
       "    </tr>\n",
       "    <tr>\n",
       "      <th>1</th>\n",
       "      <td>NaN</td>\n",
       "      <td>NaN</td>\n",
       "      <td>NaN</td>\n",
       "      <td>Albania</td>\n",
       "      <td>2021-08-20 04:21:33</td>\n",
       "      <td>41.15330</td>\n",
       "      <td>20.168300</td>\n",
       "      <td>137597</td>\n",
       "      <td>2473</td>\n",
       "      <td>NaN</td>\n",
       "      <td>NaN</td>\n",
       "      <td>Albania</td>\n",
       "      <td>4781.326013</td>\n",
       "      <td>1.797278</td>\n",
       "    </tr>\n",
       "    <tr>\n",
       "      <th>2</th>\n",
       "      <td>NaN</td>\n",
       "      <td>NaN</td>\n",
       "      <td>NaN</td>\n",
       "      <td>Algeria</td>\n",
       "      <td>2021-08-20 04:21:33</td>\n",
       "      <td>28.03390</td>\n",
       "      <td>1.659600</td>\n",
       "      <td>190078</td>\n",
       "      <td>4929</td>\n",
       "      <td>NaN</td>\n",
       "      <td>NaN</td>\n",
       "      <td>Algeria</td>\n",
       "      <td>433.462894</td>\n",
       "      <td>2.593146</td>\n",
       "    </tr>\n",
       "    <tr>\n",
       "      <th>3</th>\n",
       "      <td>NaN</td>\n",
       "      <td>NaN</td>\n",
       "      <td>NaN</td>\n",
       "      <td>Andorra</td>\n",
       "      <td>2021-08-20 04:21:33</td>\n",
       "      <td>42.50630</td>\n",
       "      <td>1.521800</td>\n",
       "      <td>14981</td>\n",
       "      <td>129</td>\n",
       "      <td>NaN</td>\n",
       "      <td>NaN</td>\n",
       "      <td>Andorra</td>\n",
       "      <td>19389.115382</td>\n",
       "      <td>0.861091</td>\n",
       "    </tr>\n",
       "    <tr>\n",
       "      <th>4</th>\n",
       "      <td>NaN</td>\n",
       "      <td>NaN</td>\n",
       "      <td>NaN</td>\n",
       "      <td>Angola</td>\n",
       "      <td>2021-08-20 04:21:33</td>\n",
       "      <td>-11.20270</td>\n",
       "      <td>17.873900</td>\n",
       "      <td>45325</td>\n",
       "      <td>1133</td>\n",
       "      <td>NaN</td>\n",
       "      <td>NaN</td>\n",
       "      <td>Angola</td>\n",
       "      <td>137.907352</td>\n",
       "      <td>2.499724</td>\n",
       "    </tr>\n",
       "  </tbody>\n",
       "</table>\n",
       "</div>"
      ],
      "text/plain": [
       "   FIPS Admin2 Province_State Country_Region          Last_Update       Lat  \\\n",
       "0   NaN    NaN            NaN    Afghanistan  2021-08-20 04:21:33  33.93911   \n",
       "1   NaN    NaN            NaN        Albania  2021-08-20 04:21:33  41.15330   \n",
       "2   NaN    NaN            NaN        Algeria  2021-08-20 04:21:33  28.03390   \n",
       "3   NaN    NaN            NaN        Andorra  2021-08-20 04:21:33  42.50630   \n",
       "4   NaN    NaN            NaN         Angola  2021-08-20 04:21:33 -11.20270   \n",
       "\n",
       "       Long_  Confirmed  Deaths  Recovered  Active Combined_Key  \\\n",
       "0  67.709953     152411    7047        NaN     NaN  Afghanistan   \n",
       "1  20.168300     137597    2473        NaN     NaN      Albania   \n",
       "2   1.659600     190078    4929        NaN     NaN      Algeria   \n",
       "3   1.521800      14981     129        NaN     NaN      Andorra   \n",
       "4  17.873900      45325    1133        NaN     NaN       Angola   \n",
       "\n",
       "   Incident_Rate  Case_Fatality_Ratio  \n",
       "0     391.516813             4.623682  \n",
       "1    4781.326013             1.797278  \n",
       "2     433.462894             2.593146  \n",
       "3   19389.115382             0.861091  \n",
       "4     137.907352             2.499724  "
      ]
     },
     "execution_count": 50,
     "metadata": {},
     "output_type": "execute_result"
    }
   ],
   "source": [
    "df.head()\n"
   ]
  },
  {
   "cell_type": "code",
   "execution_count": 51,
   "id": "921dc7a1",
   "metadata": {},
   "outputs": [
    {
     "data": {
      "text/html": [
       "<div>\n",
       "<style scoped>\n",
       "    .dataframe tbody tr th:only-of-type {\n",
       "        vertical-align: middle;\n",
       "    }\n",
       "\n",
       "    .dataframe tbody tr th {\n",
       "        vertical-align: top;\n",
       "    }\n",
       "\n",
       "    .dataframe thead th {\n",
       "        text-align: right;\n",
       "    }\n",
       "</style>\n",
       "<table border=\"1\" class=\"dataframe\">\n",
       "  <thead>\n",
       "    <tr style=\"text-align: right;\">\n",
       "      <th></th>\n",
       "      <th>FIPS</th>\n",
       "      <th>Lat</th>\n",
       "      <th>Long_</th>\n",
       "      <th>Confirmed</th>\n",
       "      <th>Deaths</th>\n",
       "      <th>Recovered</th>\n",
       "      <th>Active</th>\n",
       "      <th>Incident_Rate</th>\n",
       "      <th>Case_Fatality_Ratio</th>\n",
       "    </tr>\n",
       "  </thead>\n",
       "  <tbody>\n",
       "    <tr>\n",
       "      <th>count</th>\n",
       "      <td>3266.000000</td>\n",
       "      <td>3924.000000</td>\n",
       "      <td>3924.000000</td>\n",
       "      <td>4.014000e+03</td>\n",
       "      <td>4014.000000</td>\n",
       "      <td>28.000000</td>\n",
       "      <td>28.000000</td>\n",
       "      <td>3924.000000</td>\n",
       "      <td>3972.000000</td>\n",
       "    </tr>\n",
       "    <tr>\n",
       "      <th>mean</th>\n",
       "      <td>32401.272811</td>\n",
       "      <td>35.748927</td>\n",
       "      <td>-71.084493</td>\n",
       "      <td>5.246858e+04</td>\n",
       "      <td>1103.970852</td>\n",
       "      <td>43587.250000</td>\n",
       "      <td>9126.321429</td>\n",
       "      <td>10068.661945</td>\n",
       "      <td>2.803578</td>\n",
       "    </tr>\n",
       "    <tr>\n",
       "      <th>std</th>\n",
       "      <td>18033.806874</td>\n",
       "      <td>13.419303</td>\n",
       "      <td>55.345954</td>\n",
       "      <td>2.960464e+05</td>\n",
       "      <td>6503.789860</td>\n",
       "      <td>86500.224913</td>\n",
       "      <td>18041.795755</td>\n",
       "      <td>4336.992486</td>\n",
       "      <td>53.621497</td>\n",
       "    </tr>\n",
       "    <tr>\n",
       "      <th>min</th>\n",
       "      <td>66.000000</td>\n",
       "      <td>-71.949900</td>\n",
       "      <td>-178.116500</td>\n",
       "      <td>0.000000e+00</td>\n",
       "      <td>0.000000</td>\n",
       "      <td>0.000000</td>\n",
       "      <td>0.000000</td>\n",
       "      <td>0.000000</td>\n",
       "      <td>0.000000</td>\n",
       "    </tr>\n",
       "    <tr>\n",
       "      <th>25%</th>\n",
       "      <td>19049.500000</td>\n",
       "      <td>33.198406</td>\n",
       "      <td>-96.584625</td>\n",
       "      <td>1.295000e+03</td>\n",
       "      <td>21.000000</td>\n",
       "      <td>0.000000</td>\n",
       "      <td>0.000000</td>\n",
       "      <td>7742.489535</td>\n",
       "      <td>1.156681</td>\n",
       "    </tr>\n",
       "    <tr>\n",
       "      <th>50%</th>\n",
       "      <td>30068.000000</td>\n",
       "      <td>37.898574</td>\n",
       "      <td>-86.708116</td>\n",
       "      <td>3.664500e+03</td>\n",
       "      <td>62.000000</td>\n",
       "      <td>6873.000000</td>\n",
       "      <td>572.500000</td>\n",
       "      <td>10713.684651</td>\n",
       "      <td>1.685927</td>\n",
       "    </tr>\n",
       "    <tr>\n",
       "      <th>75%</th>\n",
       "      <td>47040.500000</td>\n",
       "      <td>42.178547</td>\n",
       "      <td>-77.355679</td>\n",
       "      <td>1.566075e+04</td>\n",
       "      <td>229.750000</td>\n",
       "      <td>52880.250000</td>\n",
       "      <td>11158.250000</td>\n",
       "      <td>12896.569500</td>\n",
       "      <td>2.359242</td>\n",
       "    </tr>\n",
       "    <tr>\n",
       "      <th>max</th>\n",
       "      <td>99999.000000</td>\n",
       "      <td>71.706900</td>\n",
       "      <td>178.065000</td>\n",
       "      <td>6.430319e+06</td>\n",
       "      <td>143752.000000</td>\n",
       "      <td>441073.000000</td>\n",
       "      <td>92207.000000</td>\n",
       "      <td>46025.488219</td>\n",
       "      <td>3377.777778</td>\n",
       "    </tr>\n",
       "  </tbody>\n",
       "</table>\n",
       "</div>"
      ],
      "text/plain": [
       "               FIPS          Lat        Long_     Confirmed         Deaths  \\\n",
       "count   3266.000000  3924.000000  3924.000000  4.014000e+03    4014.000000   \n",
       "mean   32401.272811    35.748927   -71.084493  5.246858e+04    1103.970852   \n",
       "std    18033.806874    13.419303    55.345954  2.960464e+05    6503.789860   \n",
       "min       66.000000   -71.949900  -178.116500  0.000000e+00       0.000000   \n",
       "25%    19049.500000    33.198406   -96.584625  1.295000e+03      21.000000   \n",
       "50%    30068.000000    37.898574   -86.708116  3.664500e+03      62.000000   \n",
       "75%    47040.500000    42.178547   -77.355679  1.566075e+04     229.750000   \n",
       "max    99999.000000    71.706900   178.065000  6.430319e+06  143752.000000   \n",
       "\n",
       "           Recovered        Active  Incident_Rate  Case_Fatality_Ratio  \n",
       "count      28.000000     28.000000    3924.000000          3972.000000  \n",
       "mean    43587.250000   9126.321429   10068.661945             2.803578  \n",
       "std     86500.224913  18041.795755    4336.992486            53.621497  \n",
       "min         0.000000      0.000000       0.000000             0.000000  \n",
       "25%         0.000000      0.000000    7742.489535             1.156681  \n",
       "50%      6873.000000    572.500000   10713.684651             1.685927  \n",
       "75%     52880.250000  11158.250000   12896.569500             2.359242  \n",
       "max    441073.000000  92207.000000   46025.488219          3377.777778  "
      ]
     },
     "execution_count": 51,
     "metadata": {},
     "output_type": "execute_result"
    }
   ],
   "source": [
    "df.describe()\n"
   ]
  },
  {
   "cell_type": "code",
   "execution_count": 52,
   "id": "1ce6c712",
   "metadata": {},
   "outputs": [
    {
     "data": {
      "text/plain": [
       "0       NaN\n",
       "1       NaN\n",
       "2       NaN\n",
       "3       NaN\n",
       "4       NaN\n",
       "       ... \n",
       "4009    0.0\n",
       "4010    0.0\n",
       "4011    0.0\n",
       "4012    0.0\n",
       "4013    0.0\n",
       "Name: Active, Length: 4014, dtype: float64"
      ]
     },
     "execution_count": 52,
     "metadata": {},
     "output_type": "execute_result"
    }
   ],
   "source": [
    "df[\"Active\"]"
   ]
  },
  {
   "cell_type": "code",
   "execution_count": 53,
   "id": "41f3eb1a",
   "metadata": {},
   "outputs": [
    {
     "name": "stdout",
     "output_type": "stream",
     "text": [
      "FIPS\n",
      "1001.0     1\n",
      "40005.0    1\n",
      "39161.0    1\n",
      "39163.0    1\n",
      "39165.0    1\n",
      "          ..\n",
      "21151.0    1\n",
      "21153.0    1\n",
      "21155.0    1\n",
      "21157.0    1\n",
      "56045.0    1\n",
      "Name: FIPS, Length: 3266, dtype: int64\n",
      "\n",
      "Admin2\n",
      "Unassigned    51\n",
      "Washington    30\n",
      "Jefferson     26\n",
      "Franklin      25\n",
      "Lincoln       24\n",
      "              ..\n",
      "Branch         1\n",
      "Benzie         1\n",
      "Baraga         1\n",
      "Arenac         1\n",
      "Weston         1\n",
      "Name: Admin2, Length: 1926, dtype: int64\n",
      "\n",
      "Province_State\n",
      "Texas               255\n",
      "Georgia             161\n",
      "Virginia            134\n",
      "Kentucky            121\n",
      "Missouri            117\n",
      "                   ... \n",
      "Tamil Nadu            1\n",
      "Telangana             1\n",
      "Tripura               1\n",
      "Uttar Pradesh         1\n",
      "Pitcairn Islands      1\n",
      "Name: Province_State, Length: 597, dtype: int64\n",
      "\n",
      "Country_Region\n",
      "US          3277\n",
      "Russia        83\n",
      "Japan         49\n",
      "India         37\n",
      "Colombia      34\n",
      "            ... \n",
      "Haiti          1\n",
      "Holy See       1\n",
      "Honduras       1\n",
      "Hungary        1\n",
      "Tuvalu         1\n",
      "Name: Country_Region, Length: 201, dtype: int64\n",
      "\n",
      "Last_Update\n",
      "2021-08-20 04:21:33    4002\n",
      "2020-12-21 13:27:30       5\n",
      "2020-08-04 02:27:56       2\n",
      "2021-04-25 23:20:49       1\n",
      "2020-08-07 22:34:20       1\n",
      "2021-08-19 23:20:57       1\n",
      "2021-01-24 23:22:19       1\n",
      "2021-07-31 23:21:38       1\n",
      "Name: Last_Update, dtype: int64\n",
      "\n",
      "Lat\n",
      " 52.939900    2\n",
      " 33.939110    1\n",
      " 36.395931    1\n",
      " 35.401142    1\n",
      " 34.988204    1\n",
      "             ..\n",
      " 38.712410    1\n",
      " 41.466138    1\n",
      " 37.753330    1\n",
      " 39.758369    1\n",
      "-24.376800    1\n",
      "Name: Lat, Length: 3923, dtype: int64\n",
      "\n",
      "Long_\n",
      "-101.706800    2\n",
      "-36.954100     2\n",
      "-75.527700     2\n",
      "-70.812000     2\n",
      "-71.572400     2\n",
      "              ..\n",
      "-90.614743     1\n",
      "-89.409827     1\n",
      "-88.425865     1\n",
      "-88.176575     1\n",
      "-128.324200    1\n",
      "Name: Long_, Length: 3913, dtype: int64\n",
      "\n",
      "Confirmed\n",
      "0       49\n",
      "1181     5\n",
      "1        5\n",
      "327      5\n",
      "200      4\n",
      "        ..\n",
      "2484     1\n",
      "4412     1\n",
      "1160     1\n",
      "693      1\n",
      "8990     1\n",
      "Name: Confirmed, Length: 3422, dtype: int64\n",
      "\n",
      "Deaths\n",
      "0        213\n",
      "3         53\n",
      "2         52\n",
      "7         51\n",
      "14        48\n",
      "        ... \n",
      "8226       1\n",
      "6903       1\n",
      "10068      1\n",
      "8532       1\n",
      "1792       1\n",
      "Name: Deaths, Length: 1025, dtype: int64\n",
      "\n",
      "Recovered\n",
      "0.0         12\n",
      "93164.0      1\n",
      "4191.0       1\n",
      "9555.0       1\n",
      "132533.0     1\n",
      "21426.0      1\n",
      "441073.0     1\n",
      "80562.0      1\n",
      "96190.0      1\n",
      "56751.0      1\n",
      "837.0        1\n",
      "44660.0      1\n",
      "27294.0      1\n",
      "76190.0      1\n",
      "34286.0      1\n",
      "50141.0      1\n",
      "51590.0      1\n",
      "Name: Recovered, dtype: int64\n",
      "\n",
      "Active\n",
      "0.0        12\n",
      "19915.0     1\n",
      "804.0       1\n",
      "55.0        1\n",
      "26324.0     1\n",
      "4991.0      1\n",
      "92207.0     1\n",
      "10959.0     1\n",
      "18988.0     1\n",
      "18638.0     1\n",
      "341.0       1\n",
      "9853.0      1\n",
      "8851.0      1\n",
      "9743.0      1\n",
      "7711.0      1\n",
      "11756.0     1\n",
      "14401.0     1\n",
      "Name: Active, dtype: int64\n",
      "\n",
      "Combined_Key\n",
      "Afghanistan                         1\n",
      "Transylvania, North Carolina, US    1\n",
      "Polk, North Carolina, US            1\n",
      "Randolph, North Carolina, US        1\n",
      "Richmond, North Carolina, US        1\n",
      "                                   ..\n",
      "Perry, Illinois, US                 1\n",
      "Piatt, Illinois, US                 1\n",
      "Pike, Illinois, US                  1\n",
      "Pope, Illinois, US                  1\n",
      "Pitcairn Islands, United Kingdom    1\n",
      "Name: Combined_Key, Length: 4014, dtype: int64\n",
      "\n",
      "Incident_Rate\n",
      "0.000000        14\n",
      "7962.529274      2\n",
      "391.516813       1\n",
      "12996.113286     1\n",
      "12781.755209     1\n",
      "                ..\n",
      "8834.291688      1\n",
      "14948.713108     1\n",
      "13047.121769     1\n",
      "11320.209474     1\n",
      "4758.064516      1\n",
      "Name: Incident_Rate, Length: 3910, dtype: int64\n",
      "\n",
      "Case_Fatality_Ratio\n",
      "0.000000    180\n",
      "1.851852      5\n",
      "2.222222      4\n",
      "1.000000      4\n",
      "1.587302      4\n",
      "           ... \n",
      "1.702758      1\n",
      "1.564887      1\n",
      "2.322153      1\n",
      "1.597981      1\n",
      "0.398804      1\n",
      "Name: Case_Fatality_Ratio, Length: 3651, dtype: int64\n",
      "\n"
     ]
    }
   ],
   "source": [
    "for column in df.columns.values.tolist():\n",
    "    print(column)\n",
    "    print (df[column].value_counts())\n",
    "    print(\"\")"
   ]
  },
  {
   "cell_type": "code",
   "execution_count": 54,
   "id": "a38d6055",
   "metadata": {},
   "outputs": [],
   "source": [
    "df[\"Province_State\"].fillna(\"Tobefound\", inplace=True)"
   ]
  },
  {
   "cell_type": "code",
   "execution_count": 55,
   "id": "24d924cb",
   "metadata": {},
   "outputs": [
    {
     "data": {
      "text/html": [
       "<div>\n",
       "<style scoped>\n",
       "    .dataframe tbody tr th:only-of-type {\n",
       "        vertical-align: middle;\n",
       "    }\n",
       "\n",
       "    .dataframe tbody tr th {\n",
       "        vertical-align: top;\n",
       "    }\n",
       "\n",
       "    .dataframe thead th {\n",
       "        text-align: right;\n",
       "    }\n",
       "</style>\n",
       "<table border=\"1\" class=\"dataframe\">\n",
       "  <thead>\n",
       "    <tr style=\"text-align: right;\">\n",
       "      <th></th>\n",
       "      <th>FIPS</th>\n",
       "      <th>Admin2</th>\n",
       "      <th>Province_State</th>\n",
       "      <th>Country_Region</th>\n",
       "      <th>Last_Update</th>\n",
       "      <th>Lat</th>\n",
       "      <th>Long_</th>\n",
       "      <th>Confirmed</th>\n",
       "      <th>Deaths</th>\n",
       "      <th>Recovered</th>\n",
       "      <th>Active</th>\n",
       "      <th>Combined_Key</th>\n",
       "      <th>Incident_Rate</th>\n",
       "      <th>Case_Fatality_Ratio</th>\n",
       "    </tr>\n",
       "  </thead>\n",
       "  <tbody>\n",
       "    <tr>\n",
       "      <th>0</th>\n",
       "      <td>NaN</td>\n",
       "      <td>NaN</td>\n",
       "      <td>Tobefound</td>\n",
       "      <td>Afghanistan</td>\n",
       "      <td>2021-08-20 04:21:33</td>\n",
       "      <td>33.93911</td>\n",
       "      <td>67.709953</td>\n",
       "      <td>152411</td>\n",
       "      <td>7047</td>\n",
       "      <td>NaN</td>\n",
       "      <td>NaN</td>\n",
       "      <td>Afghanistan</td>\n",
       "      <td>391.516813</td>\n",
       "      <td>4.623682</td>\n",
       "    </tr>\n",
       "    <tr>\n",
       "      <th>1</th>\n",
       "      <td>NaN</td>\n",
       "      <td>NaN</td>\n",
       "      <td>Tobefound</td>\n",
       "      <td>Albania</td>\n",
       "      <td>2021-08-20 04:21:33</td>\n",
       "      <td>41.15330</td>\n",
       "      <td>20.168300</td>\n",
       "      <td>137597</td>\n",
       "      <td>2473</td>\n",
       "      <td>NaN</td>\n",
       "      <td>NaN</td>\n",
       "      <td>Albania</td>\n",
       "      <td>4781.326013</td>\n",
       "      <td>1.797278</td>\n",
       "    </tr>\n",
       "    <tr>\n",
       "      <th>2</th>\n",
       "      <td>NaN</td>\n",
       "      <td>NaN</td>\n",
       "      <td>Tobefound</td>\n",
       "      <td>Algeria</td>\n",
       "      <td>2021-08-20 04:21:33</td>\n",
       "      <td>28.03390</td>\n",
       "      <td>1.659600</td>\n",
       "      <td>190078</td>\n",
       "      <td>4929</td>\n",
       "      <td>NaN</td>\n",
       "      <td>NaN</td>\n",
       "      <td>Algeria</td>\n",
       "      <td>433.462894</td>\n",
       "      <td>2.593146</td>\n",
       "    </tr>\n",
       "    <tr>\n",
       "      <th>3</th>\n",
       "      <td>NaN</td>\n",
       "      <td>NaN</td>\n",
       "      <td>Tobefound</td>\n",
       "      <td>Andorra</td>\n",
       "      <td>2021-08-20 04:21:33</td>\n",
       "      <td>42.50630</td>\n",
       "      <td>1.521800</td>\n",
       "      <td>14981</td>\n",
       "      <td>129</td>\n",
       "      <td>NaN</td>\n",
       "      <td>NaN</td>\n",
       "      <td>Andorra</td>\n",
       "      <td>19389.115382</td>\n",
       "      <td>0.861091</td>\n",
       "    </tr>\n",
       "    <tr>\n",
       "      <th>4</th>\n",
       "      <td>NaN</td>\n",
       "      <td>NaN</td>\n",
       "      <td>Tobefound</td>\n",
       "      <td>Angola</td>\n",
       "      <td>2021-08-20 04:21:33</td>\n",
       "      <td>-11.20270</td>\n",
       "      <td>17.873900</td>\n",
       "      <td>45325</td>\n",
       "      <td>1133</td>\n",
       "      <td>NaN</td>\n",
       "      <td>NaN</td>\n",
       "      <td>Angola</td>\n",
       "      <td>137.907352</td>\n",
       "      <td>2.499724</td>\n",
       "    </tr>\n",
       "  </tbody>\n",
       "</table>\n",
       "</div>"
      ],
      "text/plain": [
       "   FIPS Admin2 Province_State Country_Region          Last_Update       Lat  \\\n",
       "0   NaN    NaN      Tobefound    Afghanistan  2021-08-20 04:21:33  33.93911   \n",
       "1   NaN    NaN      Tobefound        Albania  2021-08-20 04:21:33  41.15330   \n",
       "2   NaN    NaN      Tobefound        Algeria  2021-08-20 04:21:33  28.03390   \n",
       "3   NaN    NaN      Tobefound        Andorra  2021-08-20 04:21:33  42.50630   \n",
       "4   NaN    NaN      Tobefound         Angola  2021-08-20 04:21:33 -11.20270   \n",
       "\n",
       "       Long_  Confirmed  Deaths  Recovered  Active Combined_Key  \\\n",
       "0  67.709953     152411    7047        NaN     NaN  Afghanistan   \n",
       "1  20.168300     137597    2473        NaN     NaN      Albania   \n",
       "2   1.659600     190078    4929        NaN     NaN      Algeria   \n",
       "3   1.521800      14981     129        NaN     NaN      Andorra   \n",
       "4  17.873900      45325    1133        NaN     NaN       Angola   \n",
       "\n",
       "   Incident_Rate  Case_Fatality_Ratio  \n",
       "0     391.516813             4.623682  \n",
       "1    4781.326013             1.797278  \n",
       "2     433.462894             2.593146  \n",
       "3   19389.115382             0.861091  \n",
       "4     137.907352             2.499724  "
      ]
     },
     "execution_count": 55,
     "metadata": {},
     "output_type": "execute_result"
    }
   ],
   "source": [
    "df.head()"
   ]
  },
  {
   "cell_type": "code",
   "execution_count": 56,
   "id": "4c2026b7",
   "metadata": {},
   "outputs": [],
   "source": [
    "from scipy.stats import zscore\n"
   ]
  },
  {
   "cell_type": "code",
   "execution_count": 57,
   "id": "c263edef",
   "metadata": {},
   "outputs": [
    {
     "data": {
      "text/plain": [
       "0       0.000000\n",
       "1       0.000000\n",
       "2       0.000000\n",
       "3       0.000000\n",
       "4       0.000000\n",
       "          ...   \n",
       "4009   -6.143969\n",
       "4010   -6.143969\n",
       "4011   -6.143969\n",
       "4012   -6.143969\n",
       "4013   -6.143969\n",
       "Name: Recovered, Length: 4014, dtype: float64"
      ]
     },
     "execution_count": 57,
     "metadata": {},
     "output_type": "execute_result"
    }
   ],
   "source": [
    "\n",
    "\n",
    "zscore(df[\"Recovered\"].fillna(df[\"Recovered\"].mean()))"
   ]
  },
  {
   "cell_type": "code",
   "execution_count": 58,
   "id": "e829cfef",
   "metadata": {},
   "outputs": [
    {
     "data": {
      "text/plain": [
       "0                    NaN\n",
       "1                    NaN\n",
       "2                    NaN\n",
       "3                    NaN\n",
       "4                    NaN\n",
       "              ...       \n",
       "4009    (-0.001, 6873.0]\n",
       "4010    (-0.001, 6873.0]\n",
       "4011    (-0.001, 6873.0]\n",
       "4012    (-0.001, 6873.0]\n",
       "4013    (-0.001, 6873.0]\n",
       "Name: Recovered, Length: 4014, dtype: category\n",
       "Categories (2, interval[float64, right]): [(-0.001, 6873.0] < (6873.0, 441073.0]]"
      ]
     },
     "execution_count": 58,
     "metadata": {},
     "output_type": "execute_result"
    }
   ],
   "source": [
    "pd.qcut(df['Recovered'], 2)"
   ]
  },
  {
   "cell_type": "code",
   "execution_count": 59,
   "id": "128b8948",
   "metadata": {},
   "outputs": [
    {
     "data": {
      "text/plain": [
       "Country_Region\n",
       "Afghanistan             7047\n",
       "Albania                 2473\n",
       "Algeria                 4929\n",
       "Andorra                  129\n",
       "Angola                  1133\n",
       "                        ... \n",
       "West Bank and Gaza      3628\n",
       "Winter Olympics 2022       0\n",
       "Yemen                   1414\n",
       "Zambia                  3564\n",
       "Zimbabwe                4198\n",
       "Name: Deaths, Length: 201, dtype: int64"
      ]
     },
     "execution_count": 59,
     "metadata": {},
     "output_type": "execute_result"
    }
   ],
   "source": [
    "df.groupby(by=[\"Country_Region\"])[\"Deaths\"].max()"
   ]
  },
  {
   "cell_type": "code",
   "execution_count": 60,
   "id": "5dfed050",
   "metadata": {},
   "outputs": [
    {
     "data": {
      "text/plain": [
       "Country_Region\n",
       "Afghanistan             152411\n",
       "Albania                 137597\n",
       "Algeria                 190078\n",
       "Andorra                  14981\n",
       "Angola                   45325\n",
       "                         ...  \n",
       "West Bank and Gaza      323582\n",
       "Winter Olympics 2022         0\n",
       "Yemen                     7407\n",
       "Zambia                  203553\n",
       "Zimbabwe                121902\n",
       "Name: Confirmed, Length: 201, dtype: int64"
      ]
     },
     "execution_count": 60,
     "metadata": {},
     "output_type": "execute_result"
    }
   ],
   "source": [
    "df.groupby(by=[\"Country_Region\"])[\"Confirmed\"].max()"
   ]
  },
  {
   "cell_type": "code",
   "execution_count": 63,
   "id": "2480d481",
   "metadata": {},
   "outputs": [
    {
     "data": {
      "text/plain": [
       "Country_Region\n",
       "Afghanistan             0.0\n",
       "Albania                 0.0\n",
       "Algeria                 0.0\n",
       "Andorra                 0.0\n",
       "Angola                  0.0\n",
       "                       ... \n",
       "West Bank and Gaza      0.0\n",
       "Winter Olympics 2022    0.0\n",
       "Yemen                   0.0\n",
       "Zambia                  0.0\n",
       "Zimbabwe                0.0\n",
       "Name: Active, Length: 201, dtype: float64"
      ]
     },
     "execution_count": 63,
     "metadata": {},
     "output_type": "execute_result"
    }
   ],
   "source": [
    "df.groupby(by=[\"Country_Region\"])[\"Active\"].max().fillna(0)"
   ]
  },
  {
   "cell_type": "code",
   "execution_count": 64,
   "id": "4084c923",
   "metadata": {},
   "outputs": [
    {
     "data": {
      "text/plain": [
       "Country_Region\n",
       "Afghanistan             0.0\n",
       "Albania                 0.0\n",
       "Algeria                 0.0\n",
       "Andorra                 0.0\n",
       "Angola                  0.0\n",
       "                       ... \n",
       "West Bank and Gaza      0.0\n",
       "Winter Olympics 2022    0.0\n",
       "Yemen                   0.0\n",
       "Zambia                  0.0\n",
       "Zimbabwe                0.0\n",
       "Name: Recovered, Length: 201, dtype: float64"
      ]
     },
     "execution_count": 64,
     "metadata": {},
     "output_type": "execute_result"
    }
   ],
   "source": [
    "df.groupby(by=[\"Country_Region\"])[\"Recovered\"].max().fillna(0)"
   ]
  },
  {
   "cell_type": "code",
   "execution_count": 68,
   "id": "27b1631f",
   "metadata": {},
   "outputs": [
    {
     "data": {
      "text/html": [
       "<div>\n",
       "<style scoped>\n",
       "    .dataframe tbody tr th:only-of-type {\n",
       "        vertical-align: middle;\n",
       "    }\n",
       "\n",
       "    .dataframe tbody tr th {\n",
       "        vertical-align: top;\n",
       "    }\n",
       "\n",
       "    .dataframe thead th {\n",
       "        text-align: right;\n",
       "    }\n",
       "</style>\n",
       "<table border=\"1\" class=\"dataframe\">\n",
       "  <thead>\n",
       "    <tr style=\"text-align: right;\">\n",
       "      <th></th>\n",
       "      <th></th>\n",
       "      <th>Active</th>\n",
       "      <th>Recovered</th>\n",
       "    </tr>\n",
       "    <tr>\n",
       "      <th>Country_Region</th>\n",
       "      <th>Province_State</th>\n",
       "      <th></th>\n",
       "      <th></th>\n",
       "    </tr>\n",
       "  </thead>\n",
       "  <tbody>\n",
       "    <tr>\n",
       "      <th>Afghanistan</th>\n",
       "      <th>Tobefound</th>\n",
       "      <td>0.0</td>\n",
       "      <td>0.0</td>\n",
       "    </tr>\n",
       "    <tr>\n",
       "      <th>Albania</th>\n",
       "      <th>Tobefound</th>\n",
       "      <td>0.0</td>\n",
       "      <td>0.0</td>\n",
       "    </tr>\n",
       "    <tr>\n",
       "      <th>Algeria</th>\n",
       "      <th>Tobefound</th>\n",
       "      <td>0.0</td>\n",
       "      <td>0.0</td>\n",
       "    </tr>\n",
       "    <tr>\n",
       "      <th>Andorra</th>\n",
       "      <th>Tobefound</th>\n",
       "      <td>0.0</td>\n",
       "      <td>0.0</td>\n",
       "    </tr>\n",
       "    <tr>\n",
       "      <th>Angola</th>\n",
       "      <th>Tobefound</th>\n",
       "      <td>0.0</td>\n",
       "      <td>0.0</td>\n",
       "    </tr>\n",
       "    <tr>\n",
       "      <th>...</th>\n",
       "      <th>...</th>\n",
       "      <td>...</td>\n",
       "      <td>...</td>\n",
       "    </tr>\n",
       "    <tr>\n",
       "      <th>West Bank and Gaza</th>\n",
       "      <th>Tobefound</th>\n",
       "      <td>0.0</td>\n",
       "      <td>0.0</td>\n",
       "    </tr>\n",
       "    <tr>\n",
       "      <th>Winter Olympics 2022</th>\n",
       "      <th>Tobefound</th>\n",
       "      <td>0.0</td>\n",
       "      <td>0.0</td>\n",
       "    </tr>\n",
       "    <tr>\n",
       "      <th>Yemen</th>\n",
       "      <th>Tobefound</th>\n",
       "      <td>0.0</td>\n",
       "      <td>0.0</td>\n",
       "    </tr>\n",
       "    <tr>\n",
       "      <th>Zambia</th>\n",
       "      <th>Tobefound</th>\n",
       "      <td>0.0</td>\n",
       "      <td>0.0</td>\n",
       "    </tr>\n",
       "    <tr>\n",
       "      <th>Zimbabwe</th>\n",
       "      <th>Tobefound</th>\n",
       "      <td>0.0</td>\n",
       "      <td>0.0</td>\n",
       "    </tr>\n",
       "  </tbody>\n",
       "</table>\n",
       "<p>795 rows × 2 columns</p>\n",
       "</div>"
      ],
      "text/plain": [
       "                                     Active  Recovered\n",
       "Country_Region       Province_State                   \n",
       "Afghanistan          Tobefound          0.0        0.0\n",
       "Albania              Tobefound          0.0        0.0\n",
       "Algeria              Tobefound          0.0        0.0\n",
       "Andorra              Tobefound          0.0        0.0\n",
       "Angola               Tobefound          0.0        0.0\n",
       "...                                     ...        ...\n",
       "West Bank and Gaza   Tobefound          0.0        0.0\n",
       "Winter Olympics 2022 Tobefound          0.0        0.0\n",
       "Yemen                Tobefound          0.0        0.0\n",
       "Zambia               Tobefound          0.0        0.0\n",
       "Zimbabwe             Tobefound          0.0        0.0\n",
       "\n",
       "[795 rows x 2 columns]"
      ]
     },
     "execution_count": 68,
     "metadata": {},
     "output_type": "execute_result"
    }
   ],
   "source": [
    "df.groupby(by=[\"Country_Region\",\"Province_State\"])[[\"Active\", \"Recovered\"]].max().fillna(0)"
   ]
  },
  {
   "cell_type": "code",
   "execution_count": 70,
   "id": "f0fff968",
   "metadata": {},
   "outputs": [],
   "source": [
    "import matplotlib.pyplot as plot"
   ]
  },
  {
   "cell_type": "code",
   "execution_count": 102,
   "id": "16402caa",
   "metadata": {},
   "outputs": [
    {
     "name": "stderr",
     "output_type": "stream",
     "text": [
      "C:\\Users\\Hart\\AppData\\Local\\Temp/ipykernel_29256/802529910.py:1: FutureWarning: Indexing with multiple keys (implicitly converted to a tuple of keys) will be deprecated, use a list instead.\n",
      "  X=df.groupby([\"Country_Region\"])[\"Deaths\", \"Confirmed\", \"Recovered\", \"Active\"].sum().reset_index()\n"
     ]
    },
    {
     "data": {
      "text/plain": [
       "[<matplotlib.lines.Line2D at 0x27a7bfcb5e0>]"
      ]
     },
     "execution_count": 102,
     "metadata": {},
     "output_type": "execute_result"
    },
    {
     "data": {
      "image/png": "[encoded data removed]",
      "text/plain": [
       "<Figure size 432x288 with 1 Axes>"
      ]
     },
     "metadata": {
      "needs_background": "light"
     },
     "output_type": "display_data"
    }
   ],
   "source": [
    "X=df.groupby([\"Country_Region\"])[\"Deaths\", \"Confirmed\", \"Recovered\", \"Active\"].sum().reset_index()\n",
    "\n"
   ]
  },
  {
   "cell_type": "code",
   "execution_count": 104,
   "id": "ae7a14cd",
   "metadata": {},
   "outputs": [
    {
     "data": {
      "text/plain": [
       "[<matplotlib.lines.Line2D at 0x27a7c14af40>]"
      ]
     },
     "execution_count": 104,
     "metadata": {},
     "output_type": "execute_result"
    },
    {
     "data": {
      "image/png": "[encoded data removed]",
      "text/plain": [
       "<Figure size 432x288 with 1 Axes>"
      ]
     },
     "metadata": {
      "needs_background": "light"
     },
     "output_type": "display_data"
    }
   ],
   "source": [
    "plot.plot(X['Country_Region'], X['Recovered'],color='red')"
   ]
  },
  {
   "cell_type": "code",
   "execution_count": 103,
   "id": "24ed6c23",
   "metadata": {},
   "outputs": [
    {
     "data": {
      "text/plain": [
       "[<matplotlib.lines.Line2D at 0x27a7ac9bf70>]"
      ]
     },
     "execution_count": 103,
     "metadata": {},
     "output_type": "execute_result"
    },
    {
     "data": {
      "image/png": "[encoded data removed]",
      "text/plain": [
       "<Figure size 432x288 with 1 Axes>"
      ]
     },
     "metadata": {
      "needs_background": "light"
     },
     "output_type": "display_data"
    }
   ],
   "source": [
    "plot.plot(X['Country_Region'], X['Active'],color='red')"
   ]
  },
  {
   "cell_type": "code",
   "execution_count": 85,
   "id": "199c2fc2",
   "metadata": {},
   "outputs": [
    {
     "data": {
      "text/plain": [
       "<pandas.core.groupby.generic.SeriesGroupBy object at 0x0000027A7AB8E100>"
      ]
     },
     "execution_count": 85,
     "metadata": {},
     "output_type": "execute_result"
    }
   ],
   "source": [
    "df.groupby(\"Country_Region\")[\"Deaths\"]"
   ]
  },
  {
   "cell_type": "code",
   "execution_count": null,
   "id": "4d0b0286",
   "metadata": {},
   "outputs": [],
   "source": []
  }
 ],
 "metadata": {
  "kernelspec": {
   "display_name": "Python 3 (ipykernel)",
   "language": "python",
   "name": "python3"
  },
  "language_info": {
   "codemirror_mode": {
    "name": "ipython",
    "version": 3
   },
   "file_extension": ".py",
   "mimetype": "text/x-python",
   "name": "python",
   "nbconvert_exporter": "python",
   "pygments_lexer": "ipython3",
   "version": "3.9.7"
  }
 },
 "nbformat": 4,
 "nbformat_minor": 5
}
